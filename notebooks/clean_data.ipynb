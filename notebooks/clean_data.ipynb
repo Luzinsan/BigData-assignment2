{
 "cells": [
  {
   "cell_type": "code",
   "execution_count": 2,
   "metadata": {},
   "outputs": [],
   "source": [
    "import pandas as pd\n",
    "import numpy as np\n",
    "from pathlib import Path\n",
    "\n",
    "DATASET_PATH = 'datasets'\n",
    "CLEANED_PATH = 'cleaned_datasets'"
   ]
  },
  {
   "cell_type": "markdown",
   "metadata": {},
   "source": [
    "# Messages"
   ]
  },
  {
   "cell_type": "code",
   "execution_count": 30,
   "metadata": {},
   "outputs": [],
   "source": [
    "messages = pd.read_csv(Path(DATASET_PATH, 'messages.csv'), \n",
    "                       parse_dates=[\n",
    "                            'clicked_first_time_at', \n",
    "                            'clicked_last_time_at',\n",
    "                            'opened_first_time_at',\n",
    "                            'opened_last_time_at', \n",
    "                            'unsubscribed_at',\n",
    "                            'hard_bounced_at',\n",
    "                            'soft_bounced_at',\n",
    "                            'complained_at',\n",
    "                            'purchased_at',\n",
    "                            'blocked_at',\n",
    "                            'created_at',\n",
    "                            'sent_at',\n",
    "                            'updated_at'\n",
    "                        ],\n",
    "                        date_format='%Y-%m-%d %H:%M:%S.%f',\n",
    "                        true_values=['t'], false_values=['f'],\n",
    "                        dtype={\n",
    "                            'message_id':'string',\n",
    "                            'campaign_id':'int32',\n",
    "                            'message_type':'category',\n",
    "                            'channel':'category',\n",
    "                            'platform':'category', \n",
    "                            'email_provider':'string', \n",
    "                            'user_device_id':'int16', \n",
    "                            'user_id':'int32'                           \n",
    "                        }\n",
    "                        ).drop(columns=['category','stream','id','date'])"
   ]
  },
  {
   "cell_type": "code",
   "execution_count": null,
   "metadata": {},
   "outputs": [],
   "source": [
    "unique_messages = messages[['campaign_id', 'message_type']].drop_duplicates().reset_index(drop=True)\n",
    "unique_messages['id'] = unique_messages.index + 1\n",
    "messages = messages.merge(unique_messages, on=['campaign_id', 'message_type'], how='left')"
   ]
  },
  {
   "cell_type": "code",
   "execution_count": 4,
   "metadata": {},
   "outputs": [],
   "source": [
    "clients = messages[['client_id','user_id','user_device_id']].drop_duplicates()\n",
    "users = messages['user_id'].drop_duplicates()"
   ]
  },
  {
   "cell_type": "markdown",
   "metadata": {},
   "source": [
    "## Behavior"
   ]
  },
  {
   "cell_type": "code",
   "execution_count": 5,
   "metadata": {},
   "outputs": [],
   "source": [
    "behaviors_cols = [col.replace('is_', '') \n",
    "                      for col in messages.columns \n",
    "                      if col.startswith('is_')]\n",
    "\n",
    "message_behavior = [ \n",
    "    (\n",
    "        messages[['message_id', f'is_{b}']].rename(columns={f'is_{b}': 'flag'})\n",
    "        .assign(\n",
    "            type = b,\n",
    "            happened_first_time = messages.get(f'{b}_first_time_at', messages.get(f'{b}_at', pd.NaT)),\n",
    "            happened_last_time = messages.get(f'{b}_last_time_at', pd.NaT)\n",
    "        ))\n",
    "    for b in behaviors_cols\n",
    "]\n",
    "\n",
    "message_behavior = pd.concat(message_behavior, ignore_index=True)\n",
    "\n",
    "message_behavior = message_behavior[message_behavior['flag'] == True]\\\n",
    "    .drop(columns=['flag'])\\\n",
    "    .sort_values(['message_id','happened_first_time'])\\\n",
    "    .set_index(['message_id','type'])\n",
    "\n",
    "message_behavior.to_csv(Path(CLEANED_PATH, 'message_behavior.csv'))\n",
    "del(message_behavior)"
   ]
  },
  {
   "cell_type": "markdown",
   "metadata": {},
   "source": [
    "## Message_sent"
   ]
  },
  {
   "cell_type": "code",
   "execution_count": 7,
   "metadata": {},
   "outputs": [],
   "source": [
    "message_sent = messages[['message_id','id','client_id',\n",
    "                         'email_provider','platform',\n",
    "                         'created_at','updated_at', 'sent_at']].set_index('message_id')\n",
    "message_sent.to_csv(Path(CLEANED_PATH, 'message_sent.csv'))\n",
    "del(message_sent)"
   ]
  },
  {
   "cell_type": "code",
   "execution_count": 9,
   "metadata": {},
   "outputs": [],
   "source": [
    "messages = messages[['id','campaign_id','message_type','channel']].drop_duplicates().set_index('id')\n",
    "messages.to_csv(Path(CLEANED_PATH,'messages.csv'))\n",
    "del(messages)"
   ]
  },
  {
   "cell_type": "markdown",
   "metadata": {},
   "source": [
    "# Campaigns"
   ]
  },
  {
   "cell_type": "code",
   "execution_count": 10,
   "metadata": {},
   "outputs": [
    {
     "data": {
      "text/plain": [
       "(1907, 19)"
      ]
     },
     "execution_count": 10,
     "metadata": {},
     "output_type": "execute_result"
    }
   ],
   "source": [
    "campaigns = pd.read_csv('datasets/campaigns.csv',\n",
    "                        parse_dates=[\n",
    "                            'started_at', \n",
    "                            'finished_at'\n",
    "                        ],\n",
    "                        dtype={\n",
    "                            'campaign_type':'category',\n",
    "                            'channel':'category',\n",
    "                            'topic':'string',\n",
    "                            'total_count':'Int32',\n",
    "                            'ab_test':'boolean',\n",
    "                            'warmup_mode':'boolean',\n",
    "                            'hour_limit':'Int32',\n",
    "                            'subject_length':'Int16',\n",
    "                            'subject_with_personalization':'boolean',\n",
    "                            'subject_with_deadline':'boolean',\n",
    "                            'subject_with_emoji':'boolean',\n",
    "                            'subject_with_bonuses':'boolean',\n",
    "                            'subject_with_discount':'boolean',\n",
    "                            'subject_with_saleout':'boolean',\n",
    "                            'is_test':'boolean',\n",
    "                            'position':'Int16' \n",
    "                        }\n",
    "                        )\\\n",
    "                        .fillna({'ab_test':False,\n",
    "                                 'warmup_mode':False,\n",
    "                                 'is_test':False})\\\n",
    "                        \n",
    "campaigns.index.names = ['campaign_pk']\n",
    "campaigns.shape"
   ]
  },
  {
   "cell_type": "code",
   "execution_count": 11,
   "metadata": {},
   "outputs": [
    {
     "data": {
      "text/plain": [
       "(1892, 18)"
      ]
     },
     "execution_count": 11,
     "metadata": {},
     "output_type": "execute_result"
    }
   ],
   "source": [
    "campaigns = campaigns[~(\n",
    "    (campaigns['is_test'] == True)\n",
    "    ### Bulk rules\n",
    "    | (campaigns['campaign_type'] == 'bulk') \n",
    "        & (campaigns['started_at'].isna() \n",
    "           | (campaigns['warmup_mode'] == True) & campaigns['hour_limit'].isna())\n",
    "    ### Trigger rules\n",
    "    | (campaigns['campaign_type'] == 'trigger')\n",
    "        & campaigns['position'].isna() \n",
    "    )].drop(columns=['is_test'])\n",
    "campaigns.shape"
   ]
  },
  {
   "cell_type": "code",
   "execution_count": 12,
   "metadata": {},
   "outputs": [
    {
     "data": {
      "text/html": [
       "<div>\n",
       "<style scoped>\n",
       "    .dataframe tbody tr th:only-of-type {\n",
       "        vertical-align: middle;\n",
       "    }\n",
       "\n",
       "    .dataframe tbody tr th {\n",
       "        vertical-align: top;\n",
       "    }\n",
       "\n",
       "    .dataframe thead th {\n",
       "        text-align: right;\n",
       "    }\n",
       "</style>\n",
       "<table border=\"1\" class=\"dataframe\">\n",
       "  <thead>\n",
       "    <tr style=\"text-align: right;\">\n",
       "      <th></th>\n",
       "      <th>id</th>\n",
       "      <th>campaign_type</th>\n",
       "      <th>channel</th>\n",
       "      <th>topic</th>\n",
       "      <th>started_at</th>\n",
       "      <th>finished_at</th>\n",
       "      <th>total_count</th>\n",
       "      <th>ab_test</th>\n",
       "      <th>warmup_mode</th>\n",
       "      <th>hour_limit</th>\n",
       "      <th>subject_length</th>\n",
       "      <th>subject_with_personalization</th>\n",
       "      <th>subject_with_deadline</th>\n",
       "      <th>subject_with_emoji</th>\n",
       "      <th>subject_with_bonuses</th>\n",
       "      <th>subject_with_discount</th>\n",
       "      <th>subject_with_saleout</th>\n",
       "      <th>position</th>\n",
       "    </tr>\n",
       "    <tr>\n",
       "      <th>campaign_pk</th>\n",
       "      <th></th>\n",
       "      <th></th>\n",
       "      <th></th>\n",
       "      <th></th>\n",
       "      <th></th>\n",
       "      <th></th>\n",
       "      <th></th>\n",
       "      <th></th>\n",
       "      <th></th>\n",
       "      <th></th>\n",
       "      <th></th>\n",
       "      <th></th>\n",
       "      <th></th>\n",
       "      <th></th>\n",
       "      <th></th>\n",
       "      <th></th>\n",
       "      <th></th>\n",
       "      <th></th>\n",
       "    </tr>\n",
       "  </thead>\n",
       "  <tbody>\n",
       "    <tr>\n",
       "      <th>1830</th>\n",
       "      <td>20519</td>\n",
       "      <td>trigger</td>\n",
       "      <td>multichannel</td>\n",
       "      <td>abandoned cart</td>\n",
       "      <td>NaT</td>\n",
       "      <td>NaT</td>\n",
       "      <td>&lt;NA&gt;</td>\n",
       "      <td>False</td>\n",
       "      <td>False</td>\n",
       "      <td>&lt;NA&gt;</td>\n",
       "      <td>&lt;NA&gt;</td>\n",
       "      <td>&lt;NA&gt;</td>\n",
       "      <td>&lt;NA&gt;</td>\n",
       "      <td>&lt;NA&gt;</td>\n",
       "      <td>&lt;NA&gt;</td>\n",
       "      <td>&lt;NA&gt;</td>\n",
       "      <td>&lt;NA&gt;</td>\n",
       "      <td>0</td>\n",
       "    </tr>\n",
       "    <tr>\n",
       "      <th>1836</th>\n",
       "      <td>20896</td>\n",
       "      <td>trigger</td>\n",
       "      <td>multichannel</td>\n",
       "      <td>abandoned cart</td>\n",
       "      <td>NaT</td>\n",
       "      <td>NaT</td>\n",
       "      <td>&lt;NA&gt;</td>\n",
       "      <td>False</td>\n",
       "      <td>False</td>\n",
       "      <td>&lt;NA&gt;</td>\n",
       "      <td>&lt;NA&gt;</td>\n",
       "      <td>&lt;NA&gt;</td>\n",
       "      <td>&lt;NA&gt;</td>\n",
       "      <td>&lt;NA&gt;</td>\n",
       "      <td>&lt;NA&gt;</td>\n",
       "      <td>&lt;NA&gt;</td>\n",
       "      <td>&lt;NA&gt;</td>\n",
       "      <td>4</td>\n",
       "    </tr>\n",
       "    <tr>\n",
       "      <th>1837</th>\n",
       "      <td>21379</td>\n",
       "      <td>trigger</td>\n",
       "      <td>multichannel</td>\n",
       "      <td>abandoned cart</td>\n",
       "      <td>NaT</td>\n",
       "      <td>NaT</td>\n",
       "      <td>&lt;NA&gt;</td>\n",
       "      <td>False</td>\n",
       "      <td>False</td>\n",
       "      <td>&lt;NA&gt;</td>\n",
       "      <td>&lt;NA&gt;</td>\n",
       "      <td>&lt;NA&gt;</td>\n",
       "      <td>&lt;NA&gt;</td>\n",
       "      <td>&lt;NA&gt;</td>\n",
       "      <td>&lt;NA&gt;</td>\n",
       "      <td>&lt;NA&gt;</td>\n",
       "      <td>&lt;NA&gt;</td>\n",
       "      <td>4</td>\n",
       "    </tr>\n",
       "  </tbody>\n",
       "</table>\n",
       "</div>"
      ],
      "text/plain": [
       "                id campaign_type       channel           topic started_at  \\\n",
       "campaign_pk                                                                 \n",
       "1830         20519       trigger  multichannel  abandoned cart        NaT   \n",
       "1836         20896       trigger  multichannel  abandoned cart        NaT   \n",
       "1837         21379       trigger  multichannel  abandoned cart        NaT   \n",
       "\n",
       "            finished_at  total_count  ab_test  warmup_mode  hour_limit  \\\n",
       "campaign_pk                                                              \n",
       "1830                NaT         <NA>    False        False        <NA>   \n",
       "1836                NaT         <NA>    False        False        <NA>   \n",
       "1837                NaT         <NA>    False        False        <NA>   \n",
       "\n",
       "             subject_length  subject_with_personalization  \\\n",
       "campaign_pk                                                 \n",
       "1830                   <NA>                          <NA>   \n",
       "1836                   <NA>                          <NA>   \n",
       "1837                   <NA>                          <NA>   \n",
       "\n",
       "             subject_with_deadline  subject_with_emoji  subject_with_bonuses  \\\n",
       "campaign_pk                                                                    \n",
       "1830                          <NA>                <NA>                  <NA>   \n",
       "1836                          <NA>                <NA>                  <NA>   \n",
       "1837                          <NA>                <NA>                  <NA>   \n",
       "\n",
       "             subject_with_discount  subject_with_saleout  position  \n",
       "campaign_pk                                                         \n",
       "1830                          <NA>                  <NA>         0  \n",
       "1836                          <NA>                  <NA>         4  \n",
       "1837                          <NA>                  <NA>         4  "
      ]
     },
     "execution_count": 12,
     "metadata": {},
     "output_type": "execute_result"
    }
   ],
   "source": [
    "# (From description): Multichannel is a kind of transactional campaign when a retailer \n",
    "# tries to deliver important information from the cheapest channel \n",
    "# to the more expensive, depending on which channels recipient uses.\n",
    "campaigns[campaigns['channel']=='multichannel'].head(3)\n",
    "# But these multichannel campaign subset related only to trigger campaign_type"
   ]
  },
  {
   "cell_type": "code",
   "execution_count": 13,
   "metadata": {},
   "outputs": [
    {
     "data": {
      "text/plain": [
       "channel\n",
       "mobile_push     1394\n",
       "email            479\n",
       "sms                1\n",
       "multichannel       0\n",
       "Name: count, dtype: int64"
      ]
     },
     "execution_count": 13,
     "metadata": {},
     "output_type": "execute_result"
    }
   ],
   "source": [
    "# (From description): SMS doesn’t have subject\n",
    "campaigns[campaigns['subject_length'].notna()]['channel'].value_counts(dropna=False)\n",
    "# But actually sms has subject\n",
    "# I'll drop subject for sms because it doesn't meet business requirements"
   ]
  },
  {
   "cell_type": "markdown",
   "metadata": {},
   "source": [
    "## Types of compaigns"
   ]
  },
  {
   "cell_type": "code",
   "execution_count": 14,
   "metadata": {},
   "outputs": [],
   "source": [
    "bulk_cols = [\n",
    "        # Only bulk campaigns have start date and finish date\n",
    "        'started_at', \n",
    "        'finished_at', # Finish date is the date/time when campaign did sent the *final* message -> can be NaN\n",
    "        'total_count', # Says how many recipients was in bulk campaign when it was sent.\n",
    "        'warmup_mode', #  Campaign works days or weeks\n",
    "        'hour_limit', # with rule: how many messages can be sent every hour\n",
    "        'ab_test' #  A/B test mode (campaign to a limited audience)\n",
    "    ]\n",
    "bulks = campaigns[campaigns['campaign_type']=='bulk'][bulk_cols]\n",
    "bulks.to_csv(Path(CLEANED_PATH, 'bulks.csv'))\n",
    "del(bulks)\n",
    "\n",
    "subject_cols = [\n",
    "        'subject_length',\n",
    "        'subject_with_personalization',\n",
    "        'subject_with_deadline',\n",
    "        'subject_with_emoji',\n",
    "        'subject_with_bonuses',\n",
    "        'subject_with_discount',\n",
    "        'subject_with_saleout'\n",
    "    ]\n",
    "campaign_subject = campaigns[~campaigns['channel']\\\n",
    "                             .isin(['sms', 'multichannel'])][subject_cols]\n",
    "campaign_subject.to_csv(Path(CLEANED_PATH, 'campaign_subject.csv'))\n",
    "del(campaign_subject)\n",
    "\n",
    "trigger_cols = ['position']\n",
    "triggers = campaigns[campaigns['campaign_type']=='trigger'][trigger_cols]\n",
    "triggers.to_csv(Path(CLEANED_PATH, 'triggers.csv'))\n",
    "del(triggers)\n",
    "\n",
    "campaigns = campaigns.drop(columns=bulk_cols \n",
    "                                + subject_cols \n",
    "                                + trigger_cols)\n",
    "campaigns.to_csv(Path(CLEANED_PATH, 'campaigns.csv'))\n",
    "del(campaigns)"
   ]
  },
  {
   "cell_type": "markdown",
   "metadata": {},
   "source": [
    "# Events"
   ]
  },
  {
   "cell_type": "code",
   "execution_count": 15,
   "metadata": {},
   "outputs": [],
   "source": [
    "events = pd.read_csv('datasets/events.csv',\n",
    "                     parse_dates=['event_time'],\n",
    "                     date_format='%Y-%m-%d %H:%M:%S UTC',\n",
    "                     dtype={\n",
    "                         'event_type':'category',\n",
    "                         'product_id':'int32',\n",
    "                         'category_id':'int64',\n",
    "                         'category_code':'category',\n",
    "                         'brand':'category',\n",
    "                         'price':'float32',\n",
    "                         'user_id':'int32',\n",
    "                         'user_session':'string'\n",
    "                     }\n",
    "                     )"
   ]
  },
  {
   "cell_type": "code",
   "execution_count": 16,
   "metadata": {},
   "outputs": [],
   "source": [
    "users = pd.concat([users, \n",
    "                   events['user_id'].drop_duplicates()])"
   ]
  },
  {
   "cell_type": "code",
   "execution_count": 17,
   "metadata": {},
   "outputs": [],
   "source": [
    "unique_products = events[['product_id', 'category_id']].drop_duplicates().reset_index(drop=True)\n",
    "unique_products['product_pk'] = unique_products.index + 1\n",
    "events = events.merge(unique_products, on=['product_id', 'category_id'], how='left')"
   ]
  },
  {
   "cell_type": "code",
   "execution_count": 18,
   "metadata": {},
   "outputs": [],
   "source": [
    "unique_produc_cards = events[['product_pk', 'brand']].drop_duplicates().reset_index(drop=True)\n",
    "unique_produc_cards['product_card_pk'] = unique_produc_cards.index + 1\n",
    "events = events.merge(unique_produc_cards, on=['product_pk', 'brand'], how='left')"
   ]
  },
  {
   "cell_type": "code",
   "execution_count": 19,
   "metadata": {},
   "outputs": [],
   "source": [
    "products = events[['product_pk','product_id', 'category_id', 'category_code']].drop_duplicates().set_index('product_pk')\n",
    "products.to_csv(Path(CLEANED_PATH, 'products.csv'))\n",
    "del(products)\n",
    "product_cards = events[['product_card_pk','product_pk','brand']].drop_duplicates().set_index('product_card_pk')\n",
    "product_cards.to_csv(Path(CLEANED_PATH, 'product_cards.csv'))\n",
    "del(product_cards)"
   ]
  },
  {
   "cell_type": "code",
   "execution_count": 20,
   "metadata": {},
   "outputs": [],
   "source": [
    "events = events.drop_duplicates(['product_card_pk','user_id','event_time'])\\\n",
    "                [['product_card_pk','user_id','event_time',\n",
    "                 'event_type','user_session','price']]\n",
    "events.to_csv(Path(CLEANED_PATH, 'events.csv'))\n",
    "del(events)"
   ]
  },
  {
   "cell_type": "markdown",
   "metadata": {},
   "source": [
    "# Client first purchase"
   ]
  },
  {
   "cell_type": "code",
   "execution_count": 21,
   "metadata": {},
   "outputs": [],
   "source": [
    "first_purchase = pd.read_csv('datasets/client_first_purchase_date.csv',\n",
    "                             parse_dates=['first_purchase_date'],\n",
    "                             date_format='%Y-%m-%d',\n",
    "                             dtype={'user_id':'int32',\n",
    "                             'user_device_id':'int16'})"
   ]
  },
  {
   "cell_type": "code",
   "execution_count": 22,
   "metadata": {},
   "outputs": [],
   "source": [
    "clients = pd.concat([clients,\n",
    "                     first_purchase[['client_id',\n",
    "                                     'user_id',\n",
    "                                     'user_device_id']].drop_duplicates()])\n",
    "clients.to_csv(Path(CLEANED_PATH, 'clients.csv'))\n",
    "del(clients)\n",
    "users = pd.concat([users, \n",
    "                   first_purchase['user_id'].drop_duplicates()])\n",
    "users.to_csv(Path(CLEANED_PATH, 'users.csv'))\n",
    "del(users)"
   ]
  },
  {
   "cell_type": "code",
   "execution_count": 23,
   "metadata": {},
   "outputs": [],
   "source": [
    "first_purchase = first_purchase[['client_id',\n",
    "                                 'first_purchase_date']].drop_duplicates()\n",
    "first_purchase.to_csv(Path(CLEANED_PATH, 'first_purchase.csv'))\n",
    "del(first_purchase)"
   ]
  },
  {
   "cell_type": "markdown",
   "metadata": {},
   "source": [
    "# Friends"
   ]
  },
  {
   "cell_type": "code",
   "execution_count": 24,
   "metadata": {},
   "outputs": [],
   "source": [
    "friends = pd.read_csv('datasets/friends.csv',\n",
    "                        dtype={\n",
    "                            'friend1':'int32',\n",
    "                            'friend2':'int32'\n",
    "                        })\n",
    "friends = pd.DataFrame(np.sort(friends.values, axis=1), columns=friends.columns)\n",
    "friends.to_csv(Path(CLEANED_PATH, 'friends.csv'))\n",
    "del(friends)"
   ]
  }
 ],
 "metadata": {
  "kernelspec": {
   "display_name": "Python 3 (ipykernel)",
   "language": "python",
   "name": "python3"
  }
 },
 "nbformat": 4,
 "nbformat_minor": 2
}
